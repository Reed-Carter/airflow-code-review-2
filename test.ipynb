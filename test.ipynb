{
 "cells": [
  {
   "cell_type": "code",
   "execution_count": 4,
   "metadata": {},
   "outputs": [
    {
     "name": "stdout",
     "output_type": "stream",
     "text": [
      "['confetti', 'confetti', 'lemon', 'lemon', 'pistachio', 'vanilla', 'rose', 'lemon', 'vanilla', 'lemon', 'pumpkin', 'confetti', 'lemon', 'lemon', 'vanilla', 'confetti', 'rose', 'strawberry', 'pumpkin', 'vanilla', 'lemon', 'chocolate', 'lemon', 'rose', 'strawberry', 'pumpkin', 'vanilla', 'strawberry', 'pistachio', 'chocolate', 'strawberry', 'confetti', 'chocolate', 'pistachio', 'confetti', 'rose', 'chocolate', 'vanilla', 'strawberry', 'caramel', 'strawberry', 'pumpkin', 'pistachio', 'confetti', 'confetti', 'chocolate', 'pistachio', 'caramel', 'caramel', 'lemon', 'strawberry', 'lemon', 'pumpkin', 'confetti', 'pistachio', 'strawberry', 'lemon', 'lemon', 'lemon', 'lemon', 'caramel', 'confetti', 'lemon', 'lemon', 'confetti', 'caramel', 'confetti', 'pumpkin', 'caramel', 'rose', 'confetti', 'vanilla', 'chocolate', 'chocolate', 'rose', 'lemon', 'lemon', 'confetti', 'pumpkin', 'confetti', 'rose', 'confetti', 'chocolate', 'rose', 'pumpkin', 'caramel', 'confetti', 'caramel', 'lemon', 'lemon', 'lemon']\n"
     ]
    }
   ],
   "source": [
    "import pandas as pd\n",
    "import statistics\n",
    "from statistics import mode\n",
    "\n",
    "def filter_valid_votes():\n",
    "\n",
    "    votes = pd.read_csv('./dsa-airflow/data/votes.csv')\n",
    "    valid_votes_df = votes[votes.isin([\"lemon\", \"vanilla\", \"chocolate\", \"pistachio\", \"strawberry\", \"confetti\", \"caramel\", \"pumpkin\", \"rose\"])].dropna()\n",
    "    valid_votes = valid_votes_df['votes'].tolist()\n",
    "    print(valid_votes)\n",
    "\n",
    "filter_valid_votes()"
   ]
  },
  {
   "cell_type": "code",
   "execution_count": 5,
   "metadata": {},
   "outputs": [
    {
     "data": {
      "text/plain": [
       "'lemon'"
      ]
     },
     "execution_count": 5,
     "metadata": {},
     "output_type": "execute_result"
    }
   ],
   "source": [
    "valid_votes = ['confetti', 'confetti', 'lemon', 'lemon', 'pistachio', 'vanilla', 'rose', 'lemon', 'vanilla', 'lemon', 'pumpkin', 'confetti', 'lemon', 'lemon', 'vanilla', 'confetti', 'rose', 'strawberry', 'pumpkin', 'vanilla', 'lemon', 'chocolate', 'lemon', 'rose', 'strawberry', 'pumpkin', 'vanilla', 'strawberry', 'pistachio', 'chocolate', 'strawberry', 'confetti', 'chocolate', 'pistachio', 'confetti', 'rose', 'chocolate', 'vanilla', 'strawberry', 'caramel', 'strawberry', 'pumpkin', 'pistachio', 'confetti', 'confetti', 'chocolate', 'pistachio', 'caramel', 'caramel', 'lemon', 'strawberry', 'lemon', 'pumpkin', 'confetti', 'pistachio', 'strawberry', 'lemon', 'lemon', 'lemon', 'lemon', 'caramel', 'confetti', 'lemon', 'lemon', 'confetti', 'caramel', 'confetti', 'pumpkin', 'caramel', 'rose', 'confetti', 'vanilla', 'chocolate', 'chocolate', 'rose', 'lemon', 'lemon', 'confetti', 'pumpkin', 'confetti', 'rose', 'confetti', 'chocolate', 'rose', 'pumpkin', 'caramel', 'confetti', 'caramel', 'lemon', 'lemon', 'lemon']\n",
    "\n",
    "def class_choice(valid_votes):\n",
    "    return(mode(valid_votes))   \n",
    "\n",
    "class_choice(valid_votes)"
   ]
  }
 ],
 "metadata": {
  "kernelspec": {
   "display_name": "venvairflow2",
   "language": "python",
   "name": "python3"
  },
  "language_info": {
   "codemirror_mode": {
    "name": "ipython",
    "version": 3
   },
   "file_extension": ".py",
   "mimetype": "text/x-python",
   "name": "python",
   "nbconvert_exporter": "python",
   "pygments_lexer": "ipython3",
   "version": "3.7.16"
  },
  "orig_nbformat": 4,
  "vscode": {
   "interpreter": {
    "hash": "6c2f1d92740db0565d132e6138c56794066672ad6efb3b337866438f64a65722"
   }
  }
 },
 "nbformat": 4,
 "nbformat_minor": 2
}
